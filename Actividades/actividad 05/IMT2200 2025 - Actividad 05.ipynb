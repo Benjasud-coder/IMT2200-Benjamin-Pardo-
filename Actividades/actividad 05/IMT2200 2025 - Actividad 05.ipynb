{
 "cells": [
  {
   "cell_type": "markdown",
   "id": "c7c4fcaf-7d91-49d0-bc8b-cafe6bb3a1d0",
   "metadata": {},
   "source": [
    "# <img style=\"float: left; padding-right: 20px; width: 200px\" src=\"https://raw.githubusercontent.com/raxlab/imt2200-data/main/media/logo.jpg\">  IMT 2200 - Introducción a Ciencia de Datos\n",
    "**Pontificia Universidad Católica de Chile**<br>\n",
    "**Instituto de Ingeniería Matemática y Computacional**<br>\n",
    "**Semestre 2025-S2**<br>\n",
    "**Profesor:** Rodrigo A. Carrasco <br>"
   ]
  },
  {
   "cell_type": "markdown",
   "id": "a6311079",
   "metadata": {},
   "source": [
    "# <h1><center>Actividad 05: Limpieza y Transformación de Datos</center></h1>\n",
    "\n",
    "Esta actividad busca aplicar los conocimientos en transformación de datos para contestar algunas preguntas."
   ]
  },
  {
   "cell_type": "markdown",
   "id": "a2c54596",
   "metadata": {},
   "source": [
    "## Instrucciones\n",
    "\n",
    "Esto Notebook contiene las instrucciones a realizar para la actividad. \n",
    "\n",
    "<b>Al finalizarla, deben subir el Notebook y los archivos generados en un único archivo .zip, al módulo de la Actividad 05 en Canvas.</b>\n",
    "\n",
    "Para esta actividad trabajarán con el archivo `spotify_history.csv`, que contiene el historial de actividad de un usuario de Spotify durante varios años."
   ]
  },
  {
   "cell_type": "markdown",
   "id": "f66e4487",
   "metadata": {},
   "source": [
    "## Rúbrica\n",
    "\n",
    "- Si han logrado todo (con errores menores): 7.0\n",
    "- Si han logrado los puntos 1 y 2 (con errores menores): 5.0\n",
    "- Si no han logrado hasta el punto 2.0: 1.0\n"
   ]
  },
  {
   "cell_type": "markdown",
   "id": "d4c7c6b5",
   "metadata": {},
   "source": [
    "## 1. Lectura y selección de columnas\n",
    "\n",
    "a. Primero, lea el `spotify_history.csv` con Pandas como un único DataFrame y muestre todas las columnas del archivo original.\n",
    "\n",
    "b. Para esta actividad, las columnas de nuestro interés son las siguientes:\n",
    "```\n",
    "['ts','ms_played',\n",
    "'master_metadata_track_name', 'master_metadata_album_artist_name',\n",
    "'master_metadata_album_album_name', 'episode_name',\n",
    "'episode_show_name',\n",
    "'reason_start', 'reason_end']\n",
    "```\n",
    "Seleccione solamente estas columnas para su DataFrame de trabajo.\n",
    "\n",
    "c. Responda:\n",
    "* ¿Cuántas filas tiene su dataset? Respuesta: _tiene 41827 filas!_"
   ]
  },
  {
   "cell_type": "code",
   "execution_count": null,
   "id": "b5cae6a2",
   "metadata": {},
   "outputs": [
    {
     "data": {
      "text/plain": [
       "41827"
      ]
     },
     "execution_count": 6,
     "metadata": {},
     "output_type": "execute_result"
    }
   ],
   "source": [
    "# a.\n",
    "import pandas as pd\n",
    "data_frame = pd.read_csv('data2025/spotify_history.csv')\n",
    "\n",
    "\n"
   ]
  },
  {
   "cell_type": "code",
   "execution_count": 8,
   "id": "7586f8d6",
   "metadata": {},
   "outputs": [],
   "source": [
    "# b.\n",
    "data_frame_columnas = data_frame[['ts','ms_played',\n",
    "'master_metadata_track_name', 'master_metadata_album_artist_name',\n",
    "'master_metadata_album_album_name', 'episode_name',\n",
    "'episode_show_name',\n",
    "'reason_start', 'reason_end']]"
   ]
  },
  {
   "cell_type": "code",
   "execution_count": 7,
   "id": "cfe4b2a5",
   "metadata": {},
   "outputs": [
    {
     "data": {
      "text/plain": [
       "41827"
      ]
     },
     "execution_count": 7,
     "metadata": {},
     "output_type": "execute_result"
    }
   ],
   "source": [
    "# c.\n",
    "len(data_frame_columnas)"
   ]
  },
  {
   "cell_type": "markdown",
   "id": "c34ec737",
   "metadata": {},
   "source": [
    "## 2. Limpieza\n",
    "\n",
    "\n",
    "a. Revise si existen filas duplicadas en su dataset. Si es así, deje solamente la última aparición de la fila duplicada en su DataFrame. ¿Cuántas filas duplicadas hay?\n",
    "\n",
    "b. Ahora, revise si hay filas cuyo valor en `ms_played` (milisegundos reproducidos) es menor a 1. Descarte todas estas filas.\n",
    "\n",
    "c. ¿Cuántas filas quedaron en su DataFrame después de la limpieza?"
   ]
  },
  {
   "cell_type": "code",
   "execution_count": 23,
   "id": "42701a0f",
   "metadata": {},
   "outputs": [
    {
     "data": {
      "text/plain": [
       "-72"
      ]
     },
     "execution_count": 23,
     "metadata": {},
     "output_type": "execute_result"
    }
   ],
   "source": [
    "# a.\n",
    "len(data_frame_columnas[data_frame_columnas.duplicated()]) # 72 filas duplicadas!!\n",
    "data_sin_duplicar = data_frame_columnas.drop_duplicates(keep='last')\n",
    "len(data_sin_duplicar) - len(data_frame_columnas) # quitamos esas duplicadas"
   ]
  },
  {
   "cell_type": "code",
   "execution_count": 25,
   "id": "ec0365b8",
   "metadata": {},
   "outputs": [
    {
     "data": {
      "text/html": [
       "<div>\n",
       "<style scoped>\n",
       "    .dataframe tbody tr th:only-of-type {\n",
       "        vertical-align: middle;\n",
       "    }\n",
       "\n",
       "    .dataframe tbody tr th {\n",
       "        vertical-align: top;\n",
       "    }\n",
       "\n",
       "    .dataframe thead th {\n",
       "        text-align: right;\n",
       "    }\n",
       "</style>\n",
       "<table border=\"1\" class=\"dataframe\">\n",
       "  <thead>\n",
       "    <tr style=\"text-align: right;\">\n",
       "      <th></th>\n",
       "      <th>ts</th>\n",
       "      <th>ms_played</th>\n",
       "      <th>master_metadata_track_name</th>\n",
       "      <th>master_metadata_album_artist_name</th>\n",
       "      <th>master_metadata_album_album_name</th>\n",
       "      <th>episode_name</th>\n",
       "      <th>episode_show_name</th>\n",
       "      <th>reason_start</th>\n",
       "      <th>reason_end</th>\n",
       "    </tr>\n",
       "  </thead>\n",
       "  <tbody>\n",
       "    <tr>\n",
       "      <th>0</th>\n",
       "      <td>2022-12-29T16:39:18Z</td>\n",
       "      <td>753</td>\n",
       "      <td>Warning Sign</td>\n",
       "      <td>Coldplay</td>\n",
       "      <td>A Rush of Blood to the Head</td>\n",
       "      <td>NaN</td>\n",
       "      <td>NaN</td>\n",
       "      <td>fwdbtn</td>\n",
       "      <td>fwdbtn</td>\n",
       "    </tr>\n",
       "    <tr>\n",
       "      <th>1</th>\n",
       "      <td>2022-12-29T16:39:19Z</td>\n",
       "      <td>1661</td>\n",
       "      <td>Houdini</td>\n",
       "      <td>Foster The People</td>\n",
       "      <td>Torches</td>\n",
       "      <td>NaN</td>\n",
       "      <td>NaN</td>\n",
       "      <td>fwdbtn</td>\n",
       "      <td>fwdbtn</td>\n",
       "    </tr>\n",
       "    <tr>\n",
       "      <th>2</th>\n",
       "      <td>2022-12-29T16:39:21Z</td>\n",
       "      <td>1000</td>\n",
       "      <td>Fingerprints</td>\n",
       "      <td>Hiatus Kaiyote</td>\n",
       "      <td>Choose Your Weapon</td>\n",
       "      <td>NaN</td>\n",
       "      <td>NaN</td>\n",
       "      <td>fwdbtn</td>\n",
       "      <td>fwdbtn</td>\n",
       "    </tr>\n",
       "    <tr>\n",
       "      <th>3</th>\n",
       "      <td>2022-12-29T16:39:22Z</td>\n",
       "      <td>1097</td>\n",
       "      <td>Waves of Nature</td>\n",
       "      <td>WILLOW</td>\n",
       "      <td>ARDIPITHECUS</td>\n",
       "      <td>NaN</td>\n",
       "      <td>NaN</td>\n",
       "      <td>fwdbtn</td>\n",
       "      <td>backbtn</td>\n",
       "    </tr>\n",
       "    <tr>\n",
       "      <th>4</th>\n",
       "      <td>2022-12-29T16:43:38Z</td>\n",
       "      <td>256920</td>\n",
       "      <td>Fingerprints</td>\n",
       "      <td>Hiatus Kaiyote</td>\n",
       "      <td>Choose Your Weapon</td>\n",
       "      <td>NaN</td>\n",
       "      <td>NaN</td>\n",
       "      <td>backbtn</td>\n",
       "      <td>trackdone</td>\n",
       "    </tr>\n",
       "    <tr>\n",
       "      <th>...</th>\n",
       "      <td>...</td>\n",
       "      <td>...</td>\n",
       "      <td>...</td>\n",
       "      <td>...</td>\n",
       "      <td>...</td>\n",
       "      <td>...</td>\n",
       "      <td>...</td>\n",
       "      <td>...</td>\n",
       "      <td>...</td>\n",
       "    </tr>\n",
       "    <tr>\n",
       "      <th>41821</th>\n",
       "      <td>2025-07-13T15:17:37Z</td>\n",
       "      <td>116308</td>\n",
       "      <td>Salmo de la Rosa Verdadera</td>\n",
       "      <td>Inti-Illimani</td>\n",
       "      <td>Lugares Comunes</td>\n",
       "      <td>NaN</td>\n",
       "      <td>NaN</td>\n",
       "      <td>trackdone</td>\n",
       "      <td>endplay</td>\n",
       "    </tr>\n",
       "    <tr>\n",
       "      <th>41822</th>\n",
       "      <td>2025-07-13T15:18:31Z</td>\n",
       "      <td>29642</td>\n",
       "      <td>Flintstones</td>\n",
       "      <td>Jacob Collier</td>\n",
       "      <td>In My Room</td>\n",
       "      <td>NaN</td>\n",
       "      <td>NaN</td>\n",
       "      <td>clickrow</td>\n",
       "      <td>endplay</td>\n",
       "    </tr>\n",
       "    <tr>\n",
       "      <th>41823</th>\n",
       "      <td>2025-07-13T15:21:40Z</td>\n",
       "      <td>187573</td>\n",
       "      <td>Moon River</td>\n",
       "      <td>Jacob Collier</td>\n",
       "      <td>Djesse Vol. 2</td>\n",
       "      <td>NaN</td>\n",
       "      <td>NaN</td>\n",
       "      <td>playbtn</td>\n",
       "      <td>endplay</td>\n",
       "    </tr>\n",
       "    <tr>\n",
       "      <th>41824</th>\n",
       "      <td>2025-07-13T15:26:51Z</td>\n",
       "      <td>54677</td>\n",
       "      <td>Moon River</td>\n",
       "      <td>Louis Armstrong</td>\n",
       "      <td>Hello, Dolly!</td>\n",
       "      <td>NaN</td>\n",
       "      <td>NaN</td>\n",
       "      <td>playbtn</td>\n",
       "      <td>endplay</td>\n",
       "    </tr>\n",
       "    <tr>\n",
       "      <th>41825</th>\n",
       "      <td>2025-07-13T15:28:54Z</td>\n",
       "      <td>122345</td>\n",
       "      <td>Moon River</td>\n",
       "      <td>Audrey Hepburn</td>\n",
       "      <td>Fruhstuck Bei Tiffany (Original Soundtrack)</td>\n",
       "      <td>NaN</td>\n",
       "      <td>NaN</td>\n",
       "      <td>playbtn</td>\n",
       "      <td>endplay</td>\n",
       "    </tr>\n",
       "  </tbody>\n",
       "</table>\n",
       "<p>41487 rows × 9 columns</p>\n",
       "</div>"
      ],
      "text/plain": [
       "                         ts  ms_played  master_metadata_track_name  \\\n",
       "0      2022-12-29T16:39:18Z        753                Warning Sign   \n",
       "1      2022-12-29T16:39:19Z       1661                     Houdini   \n",
       "2      2022-12-29T16:39:21Z       1000                Fingerprints   \n",
       "3      2022-12-29T16:39:22Z       1097             Waves of Nature   \n",
       "4      2022-12-29T16:43:38Z     256920                Fingerprints   \n",
       "...                     ...        ...                         ...   \n",
       "41821  2025-07-13T15:17:37Z     116308  Salmo de la Rosa Verdadera   \n",
       "41822  2025-07-13T15:18:31Z      29642                 Flintstones   \n",
       "41823  2025-07-13T15:21:40Z     187573                  Moon River   \n",
       "41824  2025-07-13T15:26:51Z      54677                  Moon River   \n",
       "41825  2025-07-13T15:28:54Z     122345                  Moon River   \n",
       "\n",
       "      master_metadata_album_artist_name  \\\n",
       "0                              Coldplay   \n",
       "1                     Foster The People   \n",
       "2                        Hiatus Kaiyote   \n",
       "3                                WILLOW   \n",
       "4                        Hiatus Kaiyote   \n",
       "...                                 ...   \n",
       "41821                     Inti-Illimani   \n",
       "41822                     Jacob Collier   \n",
       "41823                     Jacob Collier   \n",
       "41824                   Louis Armstrong   \n",
       "41825                    Audrey Hepburn   \n",
       "\n",
       "                  master_metadata_album_album_name episode_name  \\\n",
       "0                      A Rush of Blood to the Head          NaN   \n",
       "1                                          Torches          NaN   \n",
       "2                               Choose Your Weapon          NaN   \n",
       "3                                     ARDIPITHECUS          NaN   \n",
       "4                               Choose Your Weapon          NaN   \n",
       "...                                            ...          ...   \n",
       "41821                              Lugares Comunes          NaN   \n",
       "41822                                   In My Room          NaN   \n",
       "41823                                Djesse Vol. 2          NaN   \n",
       "41824                                Hello, Dolly!          NaN   \n",
       "41825  Fruhstuck Bei Tiffany (Original Soundtrack)          NaN   \n",
       "\n",
       "      episode_show_name reason_start reason_end  \n",
       "0                   NaN       fwdbtn     fwdbtn  \n",
       "1                   NaN       fwdbtn     fwdbtn  \n",
       "2                   NaN       fwdbtn     fwdbtn  \n",
       "3                   NaN       fwdbtn    backbtn  \n",
       "4                   NaN      backbtn  trackdone  \n",
       "...                 ...          ...        ...  \n",
       "41821               NaN    trackdone    endplay  \n",
       "41822               NaN     clickrow    endplay  \n",
       "41823               NaN      playbtn    endplay  \n",
       "41824               NaN      playbtn    endplay  \n",
       "41825               NaN      playbtn    endplay  \n",
       "\n",
       "[41487 rows x 9 columns]"
      ]
     },
     "execution_count": 25,
     "metadata": {},
     "output_type": "execute_result"
    }
   ],
   "source": [
    "data_mayor = data_sin_duplicar[data_sin_duplicar['ms_played'] > 1]\n",
    "data_mayor"
   ]
  },
  {
   "cell_type": "code",
   "execution_count": 29,
   "id": "7d31342f",
   "metadata": {},
   "outputs": [
    {
     "name": "stdout",
     "output_type": "stream",
     "text": [
      "340\n"
     ]
    },
    {
     "data": {
      "text/plain": [
       "41487"
      ]
     },
     "execution_count": 29,
     "metadata": {},
     "output_type": "execute_result"
    }
   ],
   "source": [
    "# c.\n",
    "print(len(data_frame) - len(data_mayor)) # quitamos 340 filas!!!\n",
    "len(data_mayor)"
   ]
  },
  {
   "cell_type": "markdown",
   "id": "1251b305",
   "metadata": {},
   "source": [
    "## 3. Transformación\n",
    "\n",
    "Aplique las siguientes transformaciones a su DataFrame:\n",
    "\n",
    "a. La columna `ts` (timestamp) muestra la fecha y hora de reproducción de la canción. Extraiga únicamente el año y agregue una nueva columna con este dato como número entero. ¿En qué año hubo más reproducciones?\n",
    "\n",
    "b. El dataset contiene canciones y episodios de podcasts. Genere una nueva columna (categórica o booleana) que identifique a cada fila como \"canción\" o \"episodio\" y explique cómo realizó esta clasificación. ¿Cuántas filas hay de cada una de estas categorías? \n",
    "\n",
    "c. Responda:\n",
    "¿Cuál es el podcast con mayor número de reproducciones en total?"
   ]
  },
  {
   "cell_type": "code",
   "execution_count": 39,
   "id": "7f7831b6",
   "metadata": {},
   "outputs": [
    {
     "name": "stderr",
     "output_type": "stream",
     "text": [
      "C:\\Users\\User\\AppData\\Local\\Temp\\ipykernel_12480\\2974120156.py:2: SettingWithCopyWarning: \n",
      "A value is trying to be set on a copy of a slice from a DataFrame.\n",
      "Try using .loc[row_indexer,col_indexer] = value instead\n",
      "\n",
      "See the caveats in the documentation: https://pandas.pydata.org/pandas-docs/stable/user_guide/indexing.html#returning-a-view-versus-a-copy\n",
      "  data_mayor['ts'] = pd.to_datetime(data_mayor['ts'])\n",
      "C:\\Users\\User\\AppData\\Local\\Temp\\ipykernel_12480\\2974120156.py:3: SettingWithCopyWarning: \n",
      "A value is trying to be set on a copy of a slice from a DataFrame.\n",
      "Try using .loc[row_indexer,col_indexer] = value instead\n",
      "\n",
      "See the caveats in the documentation: https://pandas.pydata.org/pandas-docs/stable/user_guide/indexing.html#returning-a-view-versus-a-copy\n",
      "  data_mayor['year'] = data_mayor['ts'].dt.year.astype(int)\n"
     ]
    },
    {
     "data": {
      "text/plain": [
       "year\n",
       "2024    18860\n",
       "2023    15426\n",
       "2025     7079\n",
       "2022      122\n",
       "Name: count, dtype: int64"
      ]
     },
     "execution_count": 39,
     "metadata": {},
     "output_type": "execute_result"
    }
   ],
   "source": [
    "# a.\n",
    "data_mayor['ts'] = pd.to_datetime(data_mayor['ts'])\n",
    "data_mayor['year'] = data_mayor['ts'].dt.year.astype(int)\n",
    "data_mayor['year'].value_counts() # hubo mas en 2024"
   ]
  },
  {
   "cell_type": "markdown",
   "id": "1b4b789c",
   "metadata": {},
   "source": [
    "El año con más reproducciones fue _2024_"
   ]
  },
  {
   "cell_type": "code",
   "execution_count": null,
   "id": "51e9e606",
   "metadata": {},
   "outputs": [
    {
     "ename": "TypeError",
     "evalue": "unsupported operand type(s) for |: 'str' and 'str'",
     "output_type": "error",
     "traceback": [
      "\u001b[31m---------------------------------------------------------------------------\u001b[39m",
      "\u001b[31mTypeError\u001b[39m                                 Traceback (most recent call last)",
      "\u001b[36mFile \u001b[39m\u001b[32mc:\\Users\\User\\miniconda3\\Lib\\site-packages\\pandas\\core\\ops\\array_ops.py:362\u001b[39m, in \u001b[36mna_logical_op\u001b[39m\u001b[34m(x, y, op)\u001b[39m\n\u001b[32m    353\u001b[39m \u001b[38;5;28;01mtry\u001b[39;00m:\n\u001b[32m    354\u001b[39m     \u001b[38;5;66;03m# For exposition, write:\u001b[39;00m\n\u001b[32m    355\u001b[39m     \u001b[38;5;66;03m#  yarr = isinstance(y, np.ndarray)\u001b[39;00m\n\u001b[32m   (...)\u001b[39m\u001b[32m    360\u001b[39m     \u001b[38;5;66;03m# Then Cases where this goes through without raising include:\u001b[39;00m\n\u001b[32m    361\u001b[39m     \u001b[38;5;66;03m#  (xint or xbool) and (yint or bool)\u001b[39;00m\n\u001b[32m--> \u001b[39m\u001b[32m362\u001b[39m     result = op(x, y)\n\u001b[32m    363\u001b[39m \u001b[38;5;28;01mexcept\u001b[39;00m \u001b[38;5;167;01mTypeError\u001b[39;00m:\n",
      "\u001b[31mTypeError\u001b[39m: unsupported operand type(s) for |: 'float' and 'bool'",
      "\nDuring handling of the above exception, another exception occurred:\n",
      "\u001b[31mTypeError\u001b[39m                                 Traceback (most recent call last)",
      "\u001b[36mCell\u001b[39m\u001b[36m \u001b[39m\u001b[32mIn[42]\u001b[39m\u001b[32m, line 2\u001b[39m\n\u001b[32m      1\u001b[39m \u001b[38;5;66;03m# b.\u001b[39;00m\n\u001b[32m----> \u001b[39m\u001b[32m2\u001b[39m data_mayor[\u001b[33m'\u001b[39m\u001b[33mFue_episodio\u001b[39m\u001b[33m'\u001b[39m] = data_mayor[data_mayor[\u001b[33m'\u001b[39m\u001b[33mepisode_name\u001b[39m\u001b[33m'\u001b[39m] | data_mayor[\u001b[33m'\u001b[39m\u001b[33mepisode_show_name\u001b[39m\u001b[33m'\u001b[39m]]\n\u001b[32m      3\u001b[39m data_mayor\n",
      "\u001b[36mFile \u001b[39m\u001b[32mc:\\Users\\User\\miniconda3\\Lib\\site-packages\\pandas\\core\\ops\\common.py:76\u001b[39m, in \u001b[36m_unpack_zerodim_and_defer.<locals>.new_method\u001b[39m\u001b[34m(self, other)\u001b[39m\n\u001b[32m     72\u001b[39m             \u001b[38;5;28;01mreturn\u001b[39;00m \u001b[38;5;28mNotImplemented\u001b[39m\n\u001b[32m     74\u001b[39m other = item_from_zerodim(other)\n\u001b[32m---> \u001b[39m\u001b[32m76\u001b[39m \u001b[38;5;28;01mreturn\u001b[39;00m method(\u001b[38;5;28mself\u001b[39m, other)\n",
      "\u001b[36mFile \u001b[39m\u001b[32mc:\\Users\\User\\miniconda3\\Lib\\site-packages\\pandas\\core\\arraylike.py:78\u001b[39m, in \u001b[36mOpsMixin.__or__\u001b[39m\u001b[34m(self, other)\u001b[39m\n\u001b[32m     76\u001b[39m \u001b[38;5;129m@unpack_zerodim_and_defer\u001b[39m(\u001b[33m\"\u001b[39m\u001b[33m__or__\u001b[39m\u001b[33m\"\u001b[39m)\n\u001b[32m     77\u001b[39m \u001b[38;5;28;01mdef\u001b[39;00m\u001b[38;5;250m \u001b[39m\u001b[34m__or__\u001b[39m(\u001b[38;5;28mself\u001b[39m, other):\n\u001b[32m---> \u001b[39m\u001b[32m78\u001b[39m     \u001b[38;5;28;01mreturn\u001b[39;00m \u001b[38;5;28mself\u001b[39m._logical_method(other, operator.or_)\n",
      "\u001b[36mFile \u001b[39m\u001b[32mc:\\Users\\User\\miniconda3\\Lib\\site-packages\\pandas\\core\\series.py:6141\u001b[39m, in \u001b[36mSeries._logical_method\u001b[39m\u001b[34m(self, other, op)\u001b[39m\n\u001b[32m   6138\u001b[39m lvalues = \u001b[38;5;28mself\u001b[39m._values\n\u001b[32m   6139\u001b[39m rvalues = extract_array(other, extract_numpy=\u001b[38;5;28;01mTrue\u001b[39;00m, extract_range=\u001b[38;5;28;01mTrue\u001b[39;00m)\n\u001b[32m-> \u001b[39m\u001b[32m6141\u001b[39m res_values = ops.logical_op(lvalues, rvalues, op)\n\u001b[32m   6142\u001b[39m \u001b[38;5;28;01mreturn\u001b[39;00m \u001b[38;5;28mself\u001b[39m._construct_result(res_values, name=res_name)\n",
      "\u001b[36mFile \u001b[39m\u001b[32mc:\\Users\\User\\miniconda3\\Lib\\site-packages\\pandas\\core\\ops\\array_ops.py:454\u001b[39m, in \u001b[36mlogical_op\u001b[39m\u001b[34m(left, right, op)\u001b[39m\n\u001b[32m    450\u001b[39m \u001b[38;5;28;01melse\u001b[39;00m:\n\u001b[32m    451\u001b[39m     \u001b[38;5;66;03m# i.e. scalar\u001b[39;00m\n\u001b[32m    452\u001b[39m     is_other_int_dtype = lib.is_integer(rvalues)\n\u001b[32m--> \u001b[39m\u001b[32m454\u001b[39m res_values = na_logical_op(lvalues, rvalues, op)\n\u001b[32m    456\u001b[39m \u001b[38;5;66;03m# For int vs int `^`, `|`, `&` are bitwise operators and return\u001b[39;00m\n\u001b[32m    457\u001b[39m \u001b[38;5;66;03m#   integer dtypes.  Otherwise these are boolean ops\u001b[39;00m\n\u001b[32m    458\u001b[39m \u001b[38;5;28;01mif\u001b[39;00m \u001b[38;5;129;01mnot\u001b[39;00m (left.dtype.kind \u001b[38;5;129;01min\u001b[39;00m \u001b[33m\"\u001b[39m\u001b[33miu\u001b[39m\u001b[33m\"\u001b[39m \u001b[38;5;129;01mand\u001b[39;00m is_other_int_dtype):\n",
      "\u001b[36mFile \u001b[39m\u001b[32mc:\\Users\\User\\miniconda3\\Lib\\site-packages\\pandas\\core\\ops\\array_ops.py:369\u001b[39m, in \u001b[36mna_logical_op\u001b[39m\u001b[34m(x, y, op)\u001b[39m\n\u001b[32m    367\u001b[39m     x = ensure_object(x)\n\u001b[32m    368\u001b[39m     y = ensure_object(y)\n\u001b[32m--> \u001b[39m\u001b[32m369\u001b[39m     result = libops.vec_binop(x.ravel(), y.ravel(), op)\n\u001b[32m    370\u001b[39m \u001b[38;5;28;01melse\u001b[39;00m:\n\u001b[32m    371\u001b[39m     \u001b[38;5;66;03m# let null fall thru\u001b[39;00m\n\u001b[32m    372\u001b[39m     \u001b[38;5;28;01massert\u001b[39;00m lib.is_scalar(y)\n",
      "\u001b[36mFile \u001b[39m\u001b[32mops.pyx:252\u001b[39m, in \u001b[36mpandas._libs.ops.vec_binop\u001b[39m\u001b[34m()\u001b[39m\n",
      "\u001b[36mFile \u001b[39m\u001b[32mops.pyx:245\u001b[39m, in \u001b[36mpandas._libs.ops.vec_binop\u001b[39m\u001b[34m()\u001b[39m\n",
      "\u001b[31mTypeError\u001b[39m: unsupported operand type(s) for |: 'str' and 'str'"
     ]
    }
   ],
   "source": [
    "# b.\n",
    "data_mayor['Fue_episodio'] = \n",
    "data_mayor"
   ]
  },
  {
   "cell_type": "code",
   "execution_count": 43,
   "id": "dcf14c7a",
   "metadata": {},
   "outputs": [
    {
     "data": {
      "text/html": [
       "<div>\n",
       "<style scoped>\n",
       "    .dataframe tbody tr th:only-of-type {\n",
       "        vertical-align: middle;\n",
       "    }\n",
       "\n",
       "    .dataframe tbody tr th {\n",
       "        vertical-align: top;\n",
       "    }\n",
       "\n",
       "    .dataframe thead th {\n",
       "        text-align: right;\n",
       "    }\n",
       "</style>\n",
       "<table border=\"1\" class=\"dataframe\">\n",
       "  <thead>\n",
       "    <tr style=\"text-align: right;\">\n",
       "      <th></th>\n",
       "      <th>ts</th>\n",
       "      <th>ms_played</th>\n",
       "      <th>master_metadata_track_name</th>\n",
       "      <th>master_metadata_album_artist_name</th>\n",
       "      <th>master_metadata_album_album_name</th>\n",
       "      <th>episode_name</th>\n",
       "      <th>episode_show_name</th>\n",
       "      <th>reason_start</th>\n",
       "      <th>reason_end</th>\n",
       "      <th>year</th>\n",
       "    </tr>\n",
       "  </thead>\n",
       "  <tbody>\n",
       "    <tr>\n",
       "      <th>0</th>\n",
       "      <td>2022-12-29 16:39:18+00:00</td>\n",
       "      <td>753</td>\n",
       "      <td>Warning Sign</td>\n",
       "      <td>Coldplay</td>\n",
       "      <td>A Rush of Blood to the Head</td>\n",
       "      <td>NaN</td>\n",
       "      <td>NaN</td>\n",
       "      <td>fwdbtn</td>\n",
       "      <td>fwdbtn</td>\n",
       "      <td>2022</td>\n",
       "    </tr>\n",
       "    <tr>\n",
       "      <th>1</th>\n",
       "      <td>2022-12-29 16:39:19+00:00</td>\n",
       "      <td>1661</td>\n",
       "      <td>Houdini</td>\n",
       "      <td>Foster The People</td>\n",
       "      <td>Torches</td>\n",
       "      <td>NaN</td>\n",
       "      <td>NaN</td>\n",
       "      <td>fwdbtn</td>\n",
       "      <td>fwdbtn</td>\n",
       "      <td>2022</td>\n",
       "    </tr>\n",
       "    <tr>\n",
       "      <th>2</th>\n",
       "      <td>2022-12-29 16:39:21+00:00</td>\n",
       "      <td>1000</td>\n",
       "      <td>Fingerprints</td>\n",
       "      <td>Hiatus Kaiyote</td>\n",
       "      <td>Choose Your Weapon</td>\n",
       "      <td>NaN</td>\n",
       "      <td>NaN</td>\n",
       "      <td>fwdbtn</td>\n",
       "      <td>fwdbtn</td>\n",
       "      <td>2022</td>\n",
       "    </tr>\n",
       "    <tr>\n",
       "      <th>3</th>\n",
       "      <td>2022-12-29 16:39:22+00:00</td>\n",
       "      <td>1097</td>\n",
       "      <td>Waves of Nature</td>\n",
       "      <td>WILLOW</td>\n",
       "      <td>ARDIPITHECUS</td>\n",
       "      <td>NaN</td>\n",
       "      <td>NaN</td>\n",
       "      <td>fwdbtn</td>\n",
       "      <td>backbtn</td>\n",
       "      <td>2022</td>\n",
       "    </tr>\n",
       "    <tr>\n",
       "      <th>4</th>\n",
       "      <td>2022-12-29 16:43:38+00:00</td>\n",
       "      <td>256920</td>\n",
       "      <td>Fingerprints</td>\n",
       "      <td>Hiatus Kaiyote</td>\n",
       "      <td>Choose Your Weapon</td>\n",
       "      <td>NaN</td>\n",
       "      <td>NaN</td>\n",
       "      <td>backbtn</td>\n",
       "      <td>trackdone</td>\n",
       "      <td>2022</td>\n",
       "    </tr>\n",
       "    <tr>\n",
       "      <th>...</th>\n",
       "      <td>...</td>\n",
       "      <td>...</td>\n",
       "      <td>...</td>\n",
       "      <td>...</td>\n",
       "      <td>...</td>\n",
       "      <td>...</td>\n",
       "      <td>...</td>\n",
       "      <td>...</td>\n",
       "      <td>...</td>\n",
       "      <td>...</td>\n",
       "    </tr>\n",
       "    <tr>\n",
       "      <th>41821</th>\n",
       "      <td>2025-07-13 15:17:37+00:00</td>\n",
       "      <td>116308</td>\n",
       "      <td>Salmo de la Rosa Verdadera</td>\n",
       "      <td>Inti-Illimani</td>\n",
       "      <td>Lugares Comunes</td>\n",
       "      <td>NaN</td>\n",
       "      <td>NaN</td>\n",
       "      <td>trackdone</td>\n",
       "      <td>endplay</td>\n",
       "      <td>2025</td>\n",
       "    </tr>\n",
       "    <tr>\n",
       "      <th>41822</th>\n",
       "      <td>2025-07-13 15:18:31+00:00</td>\n",
       "      <td>29642</td>\n",
       "      <td>Flintstones</td>\n",
       "      <td>Jacob Collier</td>\n",
       "      <td>In My Room</td>\n",
       "      <td>NaN</td>\n",
       "      <td>NaN</td>\n",
       "      <td>clickrow</td>\n",
       "      <td>endplay</td>\n",
       "      <td>2025</td>\n",
       "    </tr>\n",
       "    <tr>\n",
       "      <th>41823</th>\n",
       "      <td>2025-07-13 15:21:40+00:00</td>\n",
       "      <td>187573</td>\n",
       "      <td>Moon River</td>\n",
       "      <td>Jacob Collier</td>\n",
       "      <td>Djesse Vol. 2</td>\n",
       "      <td>NaN</td>\n",
       "      <td>NaN</td>\n",
       "      <td>playbtn</td>\n",
       "      <td>endplay</td>\n",
       "      <td>2025</td>\n",
       "    </tr>\n",
       "    <tr>\n",
       "      <th>41824</th>\n",
       "      <td>2025-07-13 15:26:51+00:00</td>\n",
       "      <td>54677</td>\n",
       "      <td>Moon River</td>\n",
       "      <td>Louis Armstrong</td>\n",
       "      <td>Hello, Dolly!</td>\n",
       "      <td>NaN</td>\n",
       "      <td>NaN</td>\n",
       "      <td>playbtn</td>\n",
       "      <td>endplay</td>\n",
       "      <td>2025</td>\n",
       "    </tr>\n",
       "    <tr>\n",
       "      <th>41825</th>\n",
       "      <td>2025-07-13 15:28:54+00:00</td>\n",
       "      <td>122345</td>\n",
       "      <td>Moon River</td>\n",
       "      <td>Audrey Hepburn</td>\n",
       "      <td>Fruhstuck Bei Tiffany (Original Soundtrack)</td>\n",
       "      <td>NaN</td>\n",
       "      <td>NaN</td>\n",
       "      <td>playbtn</td>\n",
       "      <td>endplay</td>\n",
       "      <td>2025</td>\n",
       "    </tr>\n",
       "  </tbody>\n",
       "</table>\n",
       "<p>41487 rows × 10 columns</p>\n",
       "</div>"
      ],
      "text/plain": [
       "                             ts  ms_played  master_metadata_track_name  \\\n",
       "0     2022-12-29 16:39:18+00:00        753                Warning Sign   \n",
       "1     2022-12-29 16:39:19+00:00       1661                     Houdini   \n",
       "2     2022-12-29 16:39:21+00:00       1000                Fingerprints   \n",
       "3     2022-12-29 16:39:22+00:00       1097             Waves of Nature   \n",
       "4     2022-12-29 16:43:38+00:00     256920                Fingerprints   \n",
       "...                         ...        ...                         ...   \n",
       "41821 2025-07-13 15:17:37+00:00     116308  Salmo de la Rosa Verdadera   \n",
       "41822 2025-07-13 15:18:31+00:00      29642                 Flintstones   \n",
       "41823 2025-07-13 15:21:40+00:00     187573                  Moon River   \n",
       "41824 2025-07-13 15:26:51+00:00      54677                  Moon River   \n",
       "41825 2025-07-13 15:28:54+00:00     122345                  Moon River   \n",
       "\n",
       "      master_metadata_album_artist_name  \\\n",
       "0                              Coldplay   \n",
       "1                     Foster The People   \n",
       "2                        Hiatus Kaiyote   \n",
       "3                                WILLOW   \n",
       "4                        Hiatus Kaiyote   \n",
       "...                                 ...   \n",
       "41821                     Inti-Illimani   \n",
       "41822                     Jacob Collier   \n",
       "41823                     Jacob Collier   \n",
       "41824                   Louis Armstrong   \n",
       "41825                    Audrey Hepburn   \n",
       "\n",
       "                  master_metadata_album_album_name episode_name  \\\n",
       "0                      A Rush of Blood to the Head          NaN   \n",
       "1                                          Torches          NaN   \n",
       "2                               Choose Your Weapon          NaN   \n",
       "3                                     ARDIPITHECUS          NaN   \n",
       "4                               Choose Your Weapon          NaN   \n",
       "...                                            ...          ...   \n",
       "41821                              Lugares Comunes          NaN   \n",
       "41822                                   In My Room          NaN   \n",
       "41823                                Djesse Vol. 2          NaN   \n",
       "41824                                Hello, Dolly!          NaN   \n",
       "41825  Fruhstuck Bei Tiffany (Original Soundtrack)          NaN   \n",
       "\n",
       "      episode_show_name reason_start reason_end  year  \n",
       "0                   NaN       fwdbtn     fwdbtn  2022  \n",
       "1                   NaN       fwdbtn     fwdbtn  2022  \n",
       "2                   NaN       fwdbtn     fwdbtn  2022  \n",
       "3                   NaN       fwdbtn    backbtn  2022  \n",
       "4                   NaN      backbtn  trackdone  2022  \n",
       "...                 ...          ...        ...   ...  \n",
       "41821               NaN    trackdone    endplay  2025  \n",
       "41822               NaN     clickrow    endplay  2025  \n",
       "41823               NaN      playbtn    endplay  2025  \n",
       "41824               NaN      playbtn    endplay  2025  \n",
       "41825               NaN      playbtn    endplay  2025  \n",
       "\n",
       "[41487 rows x 10 columns]"
      ]
     },
     "execution_count": 43,
     "metadata": {},
     "output_type": "execute_result"
    }
   ],
   "source": [
    "# c.\n",
    "data_mayor"
   ]
  },
  {
   "cell_type": "markdown",
   "id": "7f8eb2f4",
   "metadata": {},
   "source": [
    "El podcast con más reproducciones es XXX, con YYY reproducciones."
   ]
  },
  {
   "cell_type": "markdown",
   "id": "5fb02bcd",
   "metadata": {},
   "source": [
    "## 4. Variables categóricas\n",
    "\n",
    "a. Las columnas `reason_start`y `reason_end` muestran, respectivamente, por qué se comenzó y se terminó la reproducción de una pista. Estas son columnas categóricas. Para ambas, muestre todas las categorías que aparecen en su dataset.\n",
    "¿Son las mismas? Comente.\n",
    "\n",
    "b. Vamos a crear una nueva columna llamada `skipped` (categórica o booleana), que identificará si la reproducción de la pista fue interrumpida intencionalmente por el usuario (saltada). Para esto, nos fijaremos en el valor de `reason_end` de cada fila. Considere una pista como \"skipped\" si su término está entre las siguientes categorías: `endplay`, `fwdbtn`, `backbtn`, y como \"not skipped\" en caso contrario.\n",
    "\n",
    "c. Finalmente, responda:\n",
    "¿Cuál es la canción más interrumpida (o saltada)? Responda con el nombre de la canción y el artista."
   ]
  },
  {
   "cell_type": "code",
   "execution_count": null,
   "id": "9ab82467",
   "metadata": {},
   "outputs": [
    {
     "name": "stdout",
     "output_type": "stream",
     "text": [
      "['fwdbtn' 'backbtn' 'trackdone' 'playbtn' 'appload' 'clickrow' 'remote'\n",
      " 'trackerror' 'unknown'] ['fwdbtn' 'backbtn' 'trackdone' 'logout' 'endplay'\n",
      " 'unexpected-exit-while-paused' 'remote' 'unexpected-exit' 'unknown'\n",
      " 'trackerror']\n"
     ]
    }
   ],
   "source": [
    "# a.\n",
    "categorias_start = data_mayor['reason_start'].unique()\n",
    "categorias_end = data_mayor['reason_end'].unique()\n",
    "print(categorias_start, categorias_end)\n",
    " # son similares, pero existen razones distintas para comenzar o salir "
   ]
  },
  {
   "cell_type": "code",
   "execution_count": 49,
   "id": "088c1f6a",
   "metadata": {},
   "outputs": [
    {
     "ename": "ValueError",
     "evalue": "('Lengths must match to compare', (41487,), (3,))",
     "output_type": "error",
     "traceback": [
      "\u001b[31m---------------------------------------------------------------------------\u001b[39m",
      "\u001b[31mValueError\u001b[39m                                Traceback (most recent call last)",
      "\u001b[36mCell\u001b[39m\u001b[36m \u001b[39m\u001b[32mIn[49]\u001b[39m\u001b[32m, line 3\u001b[39m\n\u001b[32m      1\u001b[39m \u001b[38;5;66;03m# b.\u001b[39;00m\n\u001b[32m      2\u001b[39m razones = [\u001b[33m'\u001b[39m\u001b[33mendplay\u001b[39m\u001b[33m'\u001b[39m, \u001b[33m'\u001b[39m\u001b[33mfwdbtn\u001b[39m\u001b[33m'\u001b[39m, \u001b[33m'\u001b[39m\u001b[33mbackbtn\u001b[39m\u001b[33m'\u001b[39m]\n\u001b[32m----> \u001b[39m\u001b[32m3\u001b[39m data_mayor[\u001b[33m'\u001b[39m\u001b[33mskipped\u001b[39m\u001b[33m'\u001b[39m] = data_mayor[data_mayor[\u001b[33m'\u001b[39m\u001b[33mreason_end\u001b[39m\u001b[33m'\u001b[39m] == razones]\n\u001b[32m      4\u001b[39m data_mayor\n",
      "\u001b[36mFile \u001b[39m\u001b[32mc:\\Users\\User\\miniconda3\\Lib\\site-packages\\pandas\\core\\ops\\common.py:76\u001b[39m, in \u001b[36m_unpack_zerodim_and_defer.<locals>.new_method\u001b[39m\u001b[34m(self, other)\u001b[39m\n\u001b[32m     72\u001b[39m             \u001b[38;5;28;01mreturn\u001b[39;00m \u001b[38;5;28mNotImplemented\u001b[39m\n\u001b[32m     74\u001b[39m other = item_from_zerodim(other)\n\u001b[32m---> \u001b[39m\u001b[32m76\u001b[39m \u001b[38;5;28;01mreturn\u001b[39;00m method(\u001b[38;5;28mself\u001b[39m, other)\n",
      "\u001b[36mFile \u001b[39m\u001b[32mc:\\Users\\User\\miniconda3\\Lib\\site-packages\\pandas\\core\\arraylike.py:40\u001b[39m, in \u001b[36mOpsMixin.__eq__\u001b[39m\u001b[34m(self, other)\u001b[39m\n\u001b[32m     38\u001b[39m \u001b[38;5;129m@unpack_zerodim_and_defer\u001b[39m(\u001b[33m\"\u001b[39m\u001b[33m__eq__\u001b[39m\u001b[33m\"\u001b[39m)\n\u001b[32m     39\u001b[39m \u001b[38;5;28;01mdef\u001b[39;00m\u001b[38;5;250m \u001b[39m\u001b[34m__eq__\u001b[39m(\u001b[38;5;28mself\u001b[39m, other):\n\u001b[32m---> \u001b[39m\u001b[32m40\u001b[39m     \u001b[38;5;28;01mreturn\u001b[39;00m \u001b[38;5;28mself\u001b[39m._cmp_method(other, operator.eq)\n",
      "\u001b[36mFile \u001b[39m\u001b[32mc:\\Users\\User\\miniconda3\\Lib\\site-packages\\pandas\\core\\series.py:6130\u001b[39m, in \u001b[36mSeries._cmp_method\u001b[39m\u001b[34m(self, other, op)\u001b[39m\n\u001b[32m   6127\u001b[39m lvalues = \u001b[38;5;28mself\u001b[39m._values\n\u001b[32m   6128\u001b[39m rvalues = extract_array(other, extract_numpy=\u001b[38;5;28;01mTrue\u001b[39;00m, extract_range=\u001b[38;5;28;01mTrue\u001b[39;00m)\n\u001b[32m-> \u001b[39m\u001b[32m6130\u001b[39m res_values = ops.comparison_op(lvalues, rvalues, op)\n\u001b[32m   6132\u001b[39m \u001b[38;5;28;01mreturn\u001b[39;00m \u001b[38;5;28mself\u001b[39m._construct_result(res_values, name=res_name)\n",
      "\u001b[36mFile \u001b[39m\u001b[32mc:\\Users\\User\\miniconda3\\Lib\\site-packages\\pandas\\core\\ops\\array_ops.py:321\u001b[39m, in \u001b[36mcomparison_op\u001b[39m\u001b[34m(left, right, op)\u001b[39m\n\u001b[32m    316\u001b[39m \u001b[38;5;28;01mif\u001b[39;00m \u001b[38;5;28misinstance\u001b[39m(rvalues, (np.ndarray, ABCExtensionArray)):\n\u001b[32m    317\u001b[39m     \u001b[38;5;66;03m# TODO: make this treatment consistent across ops and classes.\u001b[39;00m\n\u001b[32m    318\u001b[39m     \u001b[38;5;66;03m#  We are not catching all listlikes here (e.g. frozenset, tuple)\u001b[39;00m\n\u001b[32m    319\u001b[39m     \u001b[38;5;66;03m#  The ambiguous case is object-dtype.  See GH#27803\u001b[39;00m\n\u001b[32m    320\u001b[39m     \u001b[38;5;28;01mif\u001b[39;00m \u001b[38;5;28mlen\u001b[39m(lvalues) != \u001b[38;5;28mlen\u001b[39m(rvalues):\n\u001b[32m--> \u001b[39m\u001b[32m321\u001b[39m         \u001b[38;5;28;01mraise\u001b[39;00m \u001b[38;5;167;01mValueError\u001b[39;00m(\n\u001b[32m    322\u001b[39m             \u001b[33m\"\u001b[39m\u001b[33mLengths must match to compare\u001b[39m\u001b[33m\"\u001b[39m, lvalues.shape, rvalues.shape\n\u001b[32m    323\u001b[39m         )\n\u001b[32m    325\u001b[39m \u001b[38;5;28;01mif\u001b[39;00m should_extension_dispatch(lvalues, rvalues) \u001b[38;5;129;01mor\u001b[39;00m (\n\u001b[32m    326\u001b[39m     (\u001b[38;5;28misinstance\u001b[39m(rvalues, (Timedelta, BaseOffset, Timestamp)) \u001b[38;5;129;01mor\u001b[39;00m right \u001b[38;5;129;01mis\u001b[39;00m NaT)\n\u001b[32m    327\u001b[39m     \u001b[38;5;129;01mand\u001b[39;00m lvalues.dtype != \u001b[38;5;28mobject\u001b[39m\n\u001b[32m    328\u001b[39m ):\n\u001b[32m    329\u001b[39m     \u001b[38;5;66;03m# Call the method on lvalues\u001b[39;00m\n\u001b[32m    330\u001b[39m     res_values = op(lvalues, rvalues)\n",
      "\u001b[31mValueError\u001b[39m: ('Lengths must match to compare', (41487,), (3,))"
     ]
    }
   ],
   "source": [
    "# b.\n",
    "razones = ['endplay', 'fwdbtn', 'backbtn']\n",
    "data_mayor['skipped'] = data_mayor[data_mayor['reason_end'] == razones]\n",
    "data_mayor"
   ]
  },
  {
   "cell_type": "code",
   "execution_count": null,
   "id": "5aa7a967",
   "metadata": {},
   "outputs": [],
   "source": [
    "# c."
   ]
  },
  {
   "cell_type": "markdown",
   "id": "588979a7",
   "metadata": {},
   "source": [
    "La canción más interrumpida por el usuario es XXX."
   ]
  },
  {
   "cell_type": "code",
   "execution_count": null,
   "id": "8e773962-a20b-450d-b853-7737e7b20a74",
   "metadata": {},
   "outputs": [],
   "source": []
  }
 ],
 "metadata": {
  "kernelspec": {
   "display_name": "base",
   "language": "python",
   "name": "python3"
  },
  "language_info": {
   "codemirror_mode": {
    "name": "ipython",
    "version": 3
   },
   "file_extension": ".py",
   "mimetype": "text/x-python",
   "name": "python",
   "nbconvert_exporter": "python",
   "pygments_lexer": "ipython3",
   "version": "3.13.5"
  }
 },
 "nbformat": 4,
 "nbformat_minor": 5
}
